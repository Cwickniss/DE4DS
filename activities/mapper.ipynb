{
 "cells": [
  {
   "cell_type": "code",
   "execution_count": null,
   "metadata": {},
   "outputs": [],
   "source": [
    "import pandas as pd\n",
    "\n",
    "from sklearn_pandas import DataFrameMapper\n",
    "from sklearn.preprocessing import LabelBinarizer, StandardScaler\n",
    "\n",
    "X = pd.DataFrame({\n",
    "    'position': ['C', 'C', 'D', 'RW', 'D'],\n",
    "    'goals': [1, 0, 0, 1, 2]\n",
    "})\n",
    "\n",
    "mapper = DataFrameMapper(\n",
    "    # < your code here >\n",
    "    # standard scale goals\n",
    "    # labelbinarize position\n",
    ")\n",
    "\n",
    "mapper.fit(X)\n",
    "mapper.transform(X)"
   ]
  }
 ],
 "metadata": {
  "kernelspec": {
   "display_name": "Python 3",
   "language": "python",
   "name": "python3"
  },
  "language_info": {
   "codemirror_mode": {
    "name": "ipython",
    "version": 3
   },
   "file_extension": ".py",
   "mimetype": "text/x-python",
   "name": "python",
   "nbconvert_exporter": "python",
   "pygments_lexer": "ipython3",
   "version": "3.7.3"
  }
 },
 "nbformat": 4,
 "nbformat_minor": 2
}
