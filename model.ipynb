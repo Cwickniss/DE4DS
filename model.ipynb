{
 "cells": [
  {
   "cell_type": "code",
   "execution_count": 1,
   "metadata": {},
   "outputs": [],
   "source": [
    "import sqlite3\n",
    "import pandas as pd\n",
    "\n",
    "con = sqlite3.connect('data/hockey.db')"
   ]
  },
  {
   "cell_type": "code",
   "execution_count": 2,
   "metadata": {},
   "outputs": [],
   "source": [
    "df = pd.read_sql('select * from players', con)\n",
    "df['date'] = df['date'].apply(pd.to_datetime)\n",
    "df = df.sort_values('date', ascending=True)"
   ]
  },
  {
   "cell_type": "code",
   "execution_count": 3,
   "metadata": {},
   "outputs": [
    {
     "data": {
      "text/plain": [
       "Timestamp('2019-02-14 00:00:00')"
      ]
     },
     "execution_count": 3,
     "metadata": {},
     "output_type": "execute_result"
    }
   ],
   "source": [
    "df.date.max()"
   ]
  },
  {
   "cell_type": "code",
   "execution_count": 4,
   "metadata": {},
   "outputs": [],
   "source": [
    "df = df[df.date <= '2018-12-31']"
   ]
  },
  {
   "cell_type": "code",
   "execution_count": 5,
   "metadata": {},
   "outputs": [
    {
     "data": {
      "text/plain": [
       "(437, 13)"
      ]
     },
     "execution_count": 5,
     "metadata": {},
     "output_type": "execute_result"
    }
   ],
   "source": [
    "df.shape"
   ]
  },
  {
   "cell_type": "code",
   "execution_count": 6,
   "metadata": {},
   "outputs": [
    {
     "data": {
      "text/html": [
       "<div>\n",
       "<style scoped>\n",
       "    .dataframe tbody tr th:only-of-type {\n",
       "        vertical-align: middle;\n",
       "    }\n",
       "\n",
       "    .dataframe tbody tr th {\n",
       "        vertical-align: top;\n",
       "    }\n",
       "\n",
       "    .dataframe thead th {\n",
       "        text-align: right;\n",
       "    }\n",
       "</style>\n",
       "<table border=\"1\" class=\"dataframe\">\n",
       "  <thead>\n",
       "    <tr style=\"text-align: right;\">\n",
       "      <th></th>\n",
       "      <th>id</th>\n",
       "      <th>player_id</th>\n",
       "      <th>name</th>\n",
       "      <th>position</th>\n",
       "      <th>date</th>\n",
       "      <th>team</th>\n",
       "      <th>venue</th>\n",
       "      <th>opponent</th>\n",
       "      <th>outcome</th>\n",
       "      <th>goals</th>\n",
       "      <th>assists</th>\n",
       "      <th>shots</th>\n",
       "      <th>ice_time</th>\n",
       "    </tr>\n",
       "  </thead>\n",
       "  <tbody>\n",
       "    <tr>\n",
       "      <th>58</th>\n",
       "      <td>59</td>\n",
       "      <td>bergepa01</td>\n",
       "      <td>Patrice Bergeron</td>\n",
       "      <td>C</td>\n",
       "      <td>2018-10-13</td>\n",
       "      <td>BOS</td>\n",
       "      <td>Home</td>\n",
       "      <td>DET</td>\n",
       "      <td>W</td>\n",
       "      <td>0</td>\n",
       "      <td>3</td>\n",
       "      <td>1</td>\n",
       "      <td>14.0</td>\n",
       "    </tr>\n",
       "    <tr>\n",
       "      <th>113</th>\n",
       "      <td>114</td>\n",
       "      <td>karlser01</td>\n",
       "      <td>Erik Karlsson</td>\n",
       "      <td>D</td>\n",
       "      <td>2018-10-26</td>\n",
       "      <td>SJS</td>\n",
       "      <td>Away</td>\n",
       "      <td>CAR</td>\n",
       "      <td>L-SO</td>\n",
       "      <td>0</td>\n",
       "      <td>1</td>\n",
       "      <td>0</td>\n",
       "      <td>25.0</td>\n",
       "    </tr>\n",
       "    <tr>\n",
       "      <th>380</th>\n",
       "      <td>381</td>\n",
       "      <td>burnsbr01</td>\n",
       "      <td>Brent Burns</td>\n",
       "      <td>D/RW</td>\n",
       "      <td>2018-12-20</td>\n",
       "      <td>SJS</td>\n",
       "      <td>Home</td>\n",
       "      <td>WPG</td>\n",
       "      <td>L</td>\n",
       "      <td>0</td>\n",
       "      <td>0</td>\n",
       "      <td>5</td>\n",
       "      <td>27.0</td>\n",
       "    </tr>\n",
       "    <tr>\n",
       "      <th>182</th>\n",
       "      <td>183</td>\n",
       "      <td>tavarjo01</td>\n",
       "      <td>John Tavares</td>\n",
       "      <td>C</td>\n",
       "      <td>2018-11-10</td>\n",
       "      <td>TOR</td>\n",
       "      <td>Away</td>\n",
       "      <td>BOS</td>\n",
       "      <td>L</td>\n",
       "      <td>1</td>\n",
       "      <td>0</td>\n",
       "      <td>7</td>\n",
       "      <td>18.0</td>\n",
       "    </tr>\n",
       "    <tr>\n",
       "      <th>98</th>\n",
       "      <td>99</td>\n",
       "      <td>mcdavco01</td>\n",
       "      <td>Connor McDavid</td>\n",
       "      <td>C</td>\n",
       "      <td>2018-10-23</td>\n",
       "      <td>EDM</td>\n",
       "      <td>Home</td>\n",
       "      <td>PIT</td>\n",
       "      <td>L-OT</td>\n",
       "      <td>1</td>\n",
       "      <td>1</td>\n",
       "      <td>8</td>\n",
       "      <td>28.0</td>\n",
       "    </tr>\n",
       "  </tbody>\n",
       "</table>\n",
       "</div>"
      ],
      "text/plain": [
       "      id  player_id              name position       date team venue opponent  \\\n",
       "58    59  bergepa01  Patrice Bergeron        C 2018-10-13  BOS  Home      DET   \n",
       "113  114  karlser01     Erik Karlsson        D 2018-10-26  SJS  Away      CAR   \n",
       "380  381  burnsbr01       Brent Burns     D/RW 2018-12-20  SJS  Home      WPG   \n",
       "182  183  tavarjo01      John Tavares        C 2018-11-10  TOR  Away      BOS   \n",
       "98    99  mcdavco01    Connor McDavid        C 2018-10-23  EDM  Home      PIT   \n",
       "\n",
       "    outcome  goals  assists  shots  ice_time  \n",
       "58        W      0        3      1      14.0  \n",
       "113    L-SO      0        1      0      25.0  \n",
       "380       L      0        0      5      27.0  \n",
       "182       L      1        0      7      18.0  \n",
       "98     L-OT      1        1      8      28.0  "
      ]
     },
     "execution_count": 6,
     "metadata": {},
     "output_type": "execute_result"
    }
   ],
   "source": [
    "df.sample(5)"
   ]
  },
  {
   "cell_type": "code",
   "execution_count": 7,
   "metadata": {},
   "outputs": [
    {
     "data": {
      "text/html": [
       "<div>\n",
       "<style scoped>\n",
       "    .dataframe tbody tr th:only-of-type {\n",
       "        vertical-align: middle;\n",
       "    }\n",
       "\n",
       "    .dataframe tbody tr th {\n",
       "        vertical-align: top;\n",
       "    }\n",
       "\n",
       "    .dataframe thead th {\n",
       "        text-align: right;\n",
       "    }\n",
       "</style>\n",
       "<table border=\"1\" class=\"dataframe\">\n",
       "  <thead>\n",
       "    <tr style=\"text-align: right;\">\n",
       "      <th></th>\n",
       "      <th>id</th>\n",
       "      <th>player_id</th>\n",
       "      <th>name</th>\n",
       "      <th>position</th>\n",
       "      <th>date</th>\n",
       "      <th>team</th>\n",
       "      <th>venue</th>\n",
       "      <th>opponent</th>\n",
       "      <th>outcome</th>\n",
       "      <th>goals</th>\n",
       "      <th>assists</th>\n",
       "      <th>shots</th>\n",
       "      <th>ice_time</th>\n",
       "    </tr>\n",
       "  </thead>\n",
       "  <tbody>\n",
       "    <tr>\n",
       "      <th>0</th>\n",
       "      <td>1</td>\n",
       "      <td>ovechal01</td>\n",
       "      <td>Alex Ovechkin</td>\n",
       "      <td>LW</td>\n",
       "      <td>2018-10-03</td>\n",
       "      <td>WSH</td>\n",
       "      <td>Home</td>\n",
       "      <td>BOS</td>\n",
       "      <td>W</td>\n",
       "      <td>1</td>\n",
       "      <td>1</td>\n",
       "      <td>5</td>\n",
       "      <td>16.0</td>\n",
       "    </tr>\n",
       "    <tr>\n",
       "      <th>7</th>\n",
       "      <td>8</td>\n",
       "      <td>dermotr01</td>\n",
       "      <td>Travis Dermott</td>\n",
       "      <td>D</td>\n",
       "      <td>2018-10-03</td>\n",
       "      <td>TOR</td>\n",
       "      <td>Home</td>\n",
       "      <td>MTL</td>\n",
       "      <td>W</td>\n",
       "      <td>0</td>\n",
       "      <td>1</td>\n",
       "      <td>1</td>\n",
       "      <td>17.0</td>\n",
       "    </tr>\n",
       "    <tr>\n",
       "      <th>6</th>\n",
       "      <td>7</td>\n",
       "      <td>bergepa01</td>\n",
       "      <td>Patrice Bergeron</td>\n",
       "      <td>C</td>\n",
       "      <td>2018-10-03</td>\n",
       "      <td>BOS</td>\n",
       "      <td>Away</td>\n",
       "      <td>WSH</td>\n",
       "      <td>L</td>\n",
       "      <td>0</td>\n",
       "      <td>0</td>\n",
       "      <td>3</td>\n",
       "      <td>15.0</td>\n",
       "    </tr>\n",
       "    <tr>\n",
       "      <th>5</th>\n",
       "      <td>6</td>\n",
       "      <td>kapanka01</td>\n",
       "      <td>Kasperi Kapanen</td>\n",
       "      <td>RW</td>\n",
       "      <td>2018-10-03</td>\n",
       "      <td>TOR</td>\n",
       "      <td>Home</td>\n",
       "      <td>MTL</td>\n",
       "      <td>W</td>\n",
       "      <td>0</td>\n",
       "      <td>0</td>\n",
       "      <td>2</td>\n",
       "      <td>11.0</td>\n",
       "    </tr>\n",
       "    <tr>\n",
       "      <th>8</th>\n",
       "      <td>9</td>\n",
       "      <td>hymanza01</td>\n",
       "      <td>Zach Hyman</td>\n",
       "      <td>C</td>\n",
       "      <td>2018-10-03</td>\n",
       "      <td>TOR</td>\n",
       "      <td>Home</td>\n",
       "      <td>MTL</td>\n",
       "      <td>W</td>\n",
       "      <td>0</td>\n",
       "      <td>0</td>\n",
       "      <td>2</td>\n",
       "      <td>14.0</td>\n",
       "    </tr>\n",
       "  </tbody>\n",
       "</table>\n",
       "</div>"
      ],
      "text/plain": [
       "   id  player_id              name position       date team venue opponent  \\\n",
       "0   1  ovechal01     Alex Ovechkin       LW 2018-10-03  WSH  Home      BOS   \n",
       "7   8  dermotr01    Travis Dermott        D 2018-10-03  TOR  Home      MTL   \n",
       "6   7  bergepa01  Patrice Bergeron        C 2018-10-03  BOS  Away      WSH   \n",
       "5   6  kapanka01   Kasperi Kapanen       RW 2018-10-03  TOR  Home      MTL   \n",
       "8   9  hymanza01        Zach Hyman        C 2018-10-03  TOR  Home      MTL   \n",
       "\n",
       "  outcome  goals  assists  shots  ice_time  \n",
       "0       W      1        1      5      16.0  \n",
       "7       W      0        1      1      17.0  \n",
       "6       L      0        0      3      15.0  \n",
       "5       W      0        0      2      11.0  \n",
       "8       W      0        0      2      14.0  "
      ]
     },
     "execution_count": 7,
     "metadata": {},
     "output_type": "execute_result"
    }
   ],
   "source": [
    "# df = df[df['name'] == 'Sidney Crosby']\n",
    "df.head(5)"
   ]
  },
  {
   "cell_type": "code",
   "execution_count": 8,
   "metadata": {},
   "outputs": [],
   "source": [
    "rolling = (\n",
    "    df\n",
    "    .groupby(['player_id', 'position'])\n",
    "    [['goals', 'assists', 'shots', 'ice_time']]\n",
    "    .rolling(5)\n",
    "    .mean()\n",
    "    .groupby(['player_id', 'position'])\n",
    "    .shift(1)\n",
    "    .reset_index()\n",
    "    .rename(columns={'level_2': 'index'})\n",
    "    .set_index('index')\n",
    ")"
   ]
  },
  {
   "cell_type": "code",
   "execution_count": 9,
   "metadata": {},
   "outputs": [],
   "source": [
    "train = pd.merge(df, rolling, left_index=True, right_index=True, suffixes=('_next', ''))"
   ]
  },
  {
   "cell_type": "code",
   "execution_count": 10,
   "metadata": {},
   "outputs": [
    {
     "data": {
      "text/html": [
       "<div>\n",
       "<style scoped>\n",
       "    .dataframe tbody tr th:only-of-type {\n",
       "        vertical-align: middle;\n",
       "    }\n",
       "\n",
       "    .dataframe tbody tr th {\n",
       "        vertical-align: top;\n",
       "    }\n",
       "\n",
       "    .dataframe thead th {\n",
       "        text-align: right;\n",
       "    }\n",
       "</style>\n",
       "<table border=\"1\" class=\"dataframe\">\n",
       "  <thead>\n",
       "    <tr style=\"text-align: right;\">\n",
       "      <th></th>\n",
       "      <th>id</th>\n",
       "      <th>player_id_next</th>\n",
       "      <th>name</th>\n",
       "      <th>position_next</th>\n",
       "      <th>date</th>\n",
       "      <th>team</th>\n",
       "      <th>venue</th>\n",
       "      <th>opponent</th>\n",
       "      <th>outcome</th>\n",
       "      <th>goals_next</th>\n",
       "      <th>assists_next</th>\n",
       "      <th>shots_next</th>\n",
       "      <th>ice_time_next</th>\n",
       "      <th>player_id</th>\n",
       "      <th>position</th>\n",
       "      <th>goals</th>\n",
       "      <th>assists</th>\n",
       "      <th>shots</th>\n",
       "      <th>ice_time</th>\n",
       "    </tr>\n",
       "  </thead>\n",
       "  <tbody>\n",
       "    <tr>\n",
       "      <th>0</th>\n",
       "      <td>1</td>\n",
       "      <td>ovechal01</td>\n",
       "      <td>Alex Ovechkin</td>\n",
       "      <td>LW</td>\n",
       "      <td>2018-10-03</td>\n",
       "      <td>WSH</td>\n",
       "      <td>Home</td>\n",
       "      <td>BOS</td>\n",
       "      <td>W</td>\n",
       "      <td>1</td>\n",
       "      <td>1</td>\n",
       "      <td>5</td>\n",
       "      <td>16.0</td>\n",
       "      <td>ovechal01</td>\n",
       "      <td>LW</td>\n",
       "      <td>NaN</td>\n",
       "      <td>NaN</td>\n",
       "      <td>NaN</td>\n",
       "      <td>NaN</td>\n",
       "    </tr>\n",
       "    <tr>\n",
       "      <th>7</th>\n",
       "      <td>8</td>\n",
       "      <td>dermotr01</td>\n",
       "      <td>Travis Dermott</td>\n",
       "      <td>D</td>\n",
       "      <td>2018-10-03</td>\n",
       "      <td>TOR</td>\n",
       "      <td>Home</td>\n",
       "      <td>MTL</td>\n",
       "      <td>W</td>\n",
       "      <td>0</td>\n",
       "      <td>1</td>\n",
       "      <td>1</td>\n",
       "      <td>17.0</td>\n",
       "      <td>dermotr01</td>\n",
       "      <td>D</td>\n",
       "      <td>NaN</td>\n",
       "      <td>NaN</td>\n",
       "      <td>NaN</td>\n",
       "      <td>NaN</td>\n",
       "    </tr>\n",
       "    <tr>\n",
       "      <th>6</th>\n",
       "      <td>7</td>\n",
       "      <td>bergepa01</td>\n",
       "      <td>Patrice Bergeron</td>\n",
       "      <td>C</td>\n",
       "      <td>2018-10-03</td>\n",
       "      <td>BOS</td>\n",
       "      <td>Away</td>\n",
       "      <td>WSH</td>\n",
       "      <td>L</td>\n",
       "      <td>0</td>\n",
       "      <td>0</td>\n",
       "      <td>3</td>\n",
       "      <td>15.0</td>\n",
       "      <td>bergepa01</td>\n",
       "      <td>C</td>\n",
       "      <td>NaN</td>\n",
       "      <td>NaN</td>\n",
       "      <td>NaN</td>\n",
       "      <td>NaN</td>\n",
       "    </tr>\n",
       "    <tr>\n",
       "      <th>5</th>\n",
       "      <td>6</td>\n",
       "      <td>kapanka01</td>\n",
       "      <td>Kasperi Kapanen</td>\n",
       "      <td>RW</td>\n",
       "      <td>2018-10-03</td>\n",
       "      <td>TOR</td>\n",
       "      <td>Home</td>\n",
       "      <td>MTL</td>\n",
       "      <td>W</td>\n",
       "      <td>0</td>\n",
       "      <td>0</td>\n",
       "      <td>2</td>\n",
       "      <td>11.0</td>\n",
       "      <td>kapanka01</td>\n",
       "      <td>RW</td>\n",
       "      <td>NaN</td>\n",
       "      <td>NaN</td>\n",
       "      <td>NaN</td>\n",
       "      <td>NaN</td>\n",
       "    </tr>\n",
       "    <tr>\n",
       "      <th>8</th>\n",
       "      <td>9</td>\n",
       "      <td>hymanza01</td>\n",
       "      <td>Zach Hyman</td>\n",
       "      <td>C</td>\n",
       "      <td>2018-10-03</td>\n",
       "      <td>TOR</td>\n",
       "      <td>Home</td>\n",
       "      <td>MTL</td>\n",
       "      <td>W</td>\n",
       "      <td>0</td>\n",
       "      <td>0</td>\n",
       "      <td>2</td>\n",
       "      <td>14.0</td>\n",
       "      <td>hymanza01</td>\n",
       "      <td>C</td>\n",
       "      <td>NaN</td>\n",
       "      <td>NaN</td>\n",
       "      <td>NaN</td>\n",
       "      <td>NaN</td>\n",
       "    </tr>\n",
       "  </tbody>\n",
       "</table>\n",
       "</div>"
      ],
      "text/plain": [
       "   id player_id_next              name position_next       date team venue  \\\n",
       "0   1      ovechal01     Alex Ovechkin            LW 2018-10-03  WSH  Home   \n",
       "7   8      dermotr01    Travis Dermott             D 2018-10-03  TOR  Home   \n",
       "6   7      bergepa01  Patrice Bergeron             C 2018-10-03  BOS  Away   \n",
       "5   6      kapanka01   Kasperi Kapanen            RW 2018-10-03  TOR  Home   \n",
       "8   9      hymanza01        Zach Hyman             C 2018-10-03  TOR  Home   \n",
       "\n",
       "  opponent outcome  goals_next  assists_next  shots_next  ice_time_next  \\\n",
       "0      BOS       W           1             1           5           16.0   \n",
       "7      MTL       W           0             1           1           17.0   \n",
       "6      WSH       L           0             0           3           15.0   \n",
       "5      MTL       W           0             0           2           11.0   \n",
       "8      MTL       W           0             0           2           14.0   \n",
       "\n",
       "   player_id position  goals  assists  shots  ice_time  \n",
       "0  ovechal01       LW    NaN      NaN    NaN       NaN  \n",
       "7  dermotr01        D    NaN      NaN    NaN       NaN  \n",
       "6  bergepa01        C    NaN      NaN    NaN       NaN  \n",
       "5  kapanka01       RW    NaN      NaN    NaN       NaN  \n",
       "8  hymanza01        C    NaN      NaN    NaN       NaN  "
      ]
     },
     "execution_count": 10,
     "metadata": {},
     "output_type": "execute_result"
    }
   ],
   "source": [
    "train.head()"
   ]
  },
  {
   "cell_type": "code",
   "execution_count": 11,
   "metadata": {},
   "outputs": [],
   "source": [
    "train = train.dropna(subset=['goals'])"
   ]
  },
  {
   "cell_type": "code",
   "execution_count": 12,
   "metadata": {},
   "outputs": [],
   "source": [
    "X = train[[\n",
    "    'position', \n",
    "    'goals', \n",
    "    'assists',\n",
    "    'shots',\n",
    "    'ice_time',\n",
    "]]\n",
    "\n",
    "y = train['goals_next']"
   ]
  },
  {
   "cell_type": "code",
   "execution_count": 13,
   "metadata": {},
   "outputs": [
    {
     "data": {
      "text/html": [
       "<div>\n",
       "<style scoped>\n",
       "    .dataframe tbody tr th:only-of-type {\n",
       "        vertical-align: middle;\n",
       "    }\n",
       "\n",
       "    .dataframe tbody tr th {\n",
       "        vertical-align: top;\n",
       "    }\n",
       "\n",
       "    .dataframe thead th {\n",
       "        text-align: right;\n",
       "    }\n",
       "</style>\n",
       "<table border=\"1\" class=\"dataframe\">\n",
       "  <thead>\n",
       "    <tr style=\"text-align: right;\">\n",
       "      <th></th>\n",
       "      <th>position</th>\n",
       "      <th>goals</th>\n",
       "      <th>assists</th>\n",
       "      <th>shots</th>\n",
       "      <th>ice_time</th>\n",
       "    </tr>\n",
       "  </thead>\n",
       "  <tbody>\n",
       "    <tr>\n",
       "      <th>61</th>\n",
       "      <td>C</td>\n",
       "      <td>0.0</td>\n",
       "      <td>0.8</td>\n",
       "      <td>1.2</td>\n",
       "      <td>16.4</td>\n",
       "    </tr>\n",
       "    <tr>\n",
       "      <th>60</th>\n",
       "      <td>D</td>\n",
       "      <td>0.0</td>\n",
       "      <td>0.2</td>\n",
       "      <td>1.0</td>\n",
       "      <td>16.0</td>\n",
       "    </tr>\n",
       "    <tr>\n",
       "      <th>57</th>\n",
       "      <td>RW</td>\n",
       "      <td>0.2</td>\n",
       "      <td>0.6</td>\n",
       "      <td>2.6</td>\n",
       "      <td>14.0</td>\n",
       "    </tr>\n",
       "    <tr>\n",
       "      <th>53</th>\n",
       "      <td>C</td>\n",
       "      <td>1.8</td>\n",
       "      <td>0.6</td>\n",
       "      <td>3.4</td>\n",
       "      <td>18.0</td>\n",
       "    </tr>\n",
       "    <tr>\n",
       "      <th>56</th>\n",
       "      <td>C</td>\n",
       "      <td>1.2</td>\n",
       "      <td>0.8</td>\n",
       "      <td>4.2</td>\n",
       "      <td>18.8</td>\n",
       "    </tr>\n",
       "  </tbody>\n",
       "</table>\n",
       "</div>"
      ],
      "text/plain": [
       "   position  goals  assists  shots  ice_time\n",
       "61        C    0.0      0.8    1.2      16.4\n",
       "60        D    0.0      0.2    1.0      16.0\n",
       "57       RW    0.2      0.6    2.6      14.0\n",
       "53        C    1.8      0.6    3.4      18.0\n",
       "56        C    1.2      0.8    4.2      18.8"
      ]
     },
     "execution_count": 13,
     "metadata": {},
     "output_type": "execute_result"
    }
   ],
   "source": [
    "X[:5]"
   ]
  },
  {
   "cell_type": "code",
   "execution_count": 14,
   "metadata": {},
   "outputs": [
    {
     "data": {
      "text/plain": [
       "61    0\n",
       "60    0\n",
       "57    1\n",
       "53    1\n",
       "56    0\n",
       "Name: goals_next, dtype: int64"
      ]
     },
     "execution_count": 14,
     "metadata": {},
     "output_type": "execute_result"
    }
   ],
   "source": [
    "y[:5]"
   ]
  },
  {
   "cell_type": "code",
   "execution_count": 18,
   "metadata": {},
   "outputs": [],
   "source": [
    "from sklearn.linear_model import LinearRegression\n",
    "from sklearn_pandas import DataFrameMapper, CategoricalImputer\n",
    "from sklearn.preprocessing import LabelBinarizer, StandardScaler\n",
    "from sklearn.impute import SimpleImputer"
   ]
  },
  {
   "cell_type": "code",
   "execution_count": 23,
   "metadata": {},
   "outputs": [],
   "source": [
    "mapper = DataFrameMapper([\n",
    "    ('position', [CategoricalImputer(), LabelBinarizer()]),\n",
    "    (['goals'], [SimpleImputer(), StandardScaler()]), \n",
    "    (['assists'], [SimpleImputer(), StandardScaler()]),\n",
    "    (['shots'], [SimpleImputer(), StandardScaler()]), \n",
    "    (['ice_time'], [SimpleImputer(), StandardScaler()]),\n",
    "], df_out=True)"
   ]
  },
  {
   "cell_type": "code",
   "execution_count": 24,
   "metadata": {},
   "outputs": [],
   "source": [
    "Z = mapper.fit_transform(X)"
   ]
  },
  {
   "cell_type": "code",
   "execution_count": 25,
   "metadata": {},
   "outputs": [
    {
     "data": {
      "text/plain": [
       "LinearRegression(copy_X=True, fit_intercept=True, n_jobs=None,\n",
       "         normalize=False)"
      ]
     },
     "execution_count": 25,
     "metadata": {},
     "output_type": "execute_result"
    }
   ],
   "source": [
    "model = LinearRegression()\n",
    "model.fit(Z, y)"
   ]
  },
  {
   "cell_type": "code",
   "execution_count": 26,
   "metadata": {},
   "outputs": [
    {
     "data": {
      "text/plain": [
       "0.12812000807969037"
      ]
     },
     "execution_count": 26,
     "metadata": {},
     "output_type": "execute_result"
    }
   ],
   "source": [
    "model.score(Z, y)"
   ]
  },
  {
   "cell_type": "code",
   "execution_count": 27,
   "metadata": {},
   "outputs": [],
   "source": [
    "# now to pipeline?"
   ]
  },
  {
   "cell_type": "code",
   "execution_count": null,
   "metadata": {},
   "outputs": [],
   "source": [
    "name = 'Alex Ovechkin'\n",
    "test = pd.read_sql(f'''\n",
    "    select \n",
    "    * \n",
    "    from players \n",
    "    where name = \"{name}\" \n",
    "    order by date asc\n",
    "    limit 5\n",
    "''', con)\n",
    "\n",
    "test"
   ]
  },
  {
   "cell_type": "code",
   "execution_count": null,
   "metadata": {},
   "outputs": [],
   "source": [
    "rolling = (\n",
    "    test\n",
    "    .groupby(['name', 'position'])\n",
    "    [['goals', 'assists', 'shots', 'ice_time']]\n",
    "    .rolling(5)\n",
    "    .mean()\n",
    "    .reset_index()\n",
    "    .drop(['name', 'level_2'], axis=1)\n",
    "    .iloc[-1:]\n",
    ")"
   ]
  },
  {
   "cell_type": "code",
   "execution_count": null,
   "metadata": {},
   "outputs": [],
   "source": [
    "Z = mapper.transform(rolling)\n",
    "round(model.predict(Z)[0], 2)"
   ]
  },
  {
   "cell_type": "markdown",
   "metadata": {},
   "source": [
    "Wrap up attempt #1"
   ]
  },
  {
   "cell_type": "code",
   "execution_count": null,
   "metadata": {},
   "outputs": [],
   "source": [
    "def read_data(name, con):\n",
    "    player = pd.read_sql(f'''\n",
    "    select \n",
    "    * \n",
    "    from players \n",
    "    where name = \"{name}\" \n",
    "    order by date asc\n",
    "    limit 5\n",
    "    ''', con)\n",
    "    return player"
   ]
  },
  {
   "cell_type": "code",
   "execution_count": null,
   "metadata": {},
   "outputs": [],
   "source": [
    "data = read_data('Alex Ovechkin', con)"
   ]
  },
  {
   "cell_type": "code",
   "execution_count": null,
   "metadata": {},
   "outputs": [],
   "source": [
    "def prepare_data(data):\n",
    "    rolling = (\n",
    "        data\n",
    "        .set_index('position')\n",
    "        [['goals', 'assists', 'shots', 'ice_time']]\n",
    "        .rolling(5)\n",
    "        .mean()\n",
    "        .reset_index()\n",
    "        .iloc[-1:]\n",
    "    )\n",
    "    return rolling"
   ]
  },
  {
   "cell_type": "code",
   "execution_count": null,
   "metadata": {},
   "outputs": [],
   "source": [
    "data = prepare_data(data)"
   ]
  },
  {
   "cell_type": "code",
   "execution_count": null,
   "metadata": {},
   "outputs": [],
   "source": [
    "def predict(data):\n",
    "    data = mapper.transform(data)\n",
    "    pred = round(model.predict(data)[0], 2)\n",
    "    return pred"
   ]
  },
  {
   "cell_type": "code",
   "execution_count": null,
   "metadata": {},
   "outputs": [],
   "source": [
    "predict(data)"
   ]
  },
  {
   "cell_type": "code",
   "execution_count": null,
   "metadata": {},
   "outputs": [],
   "source": [
    "from sklearn.base import BaseEstimator, TransformerMixin\n",
    "\n",
    "class CleanAndRoll(BaseEstimator, TransformerMixin):\n",
    "    def __init__(self):\n",
    "        pass\n",
    "    \n",
    "    def fit(self, X, y=None):\n",
    "        return self\n",
    "\n",
    "    def transform(self, X):\n",
    "        X = (\n",
    "            X\n",
    "            .set_index('position')\n",
    "            [['goals', 'assists', 'shots', 'ice_time']]\n",
    "            .rolling(5)\n",
    "            .mean()\n",
    "            .reset_index()\n",
    "            .iloc[-1:]\n",
    "        )\n",
    "        return X\n",
    "\n",
    "car = CleanAndRoll()\n",
    "\n",
    "data = read_data('Alex Ovechkin', con)\n",
    "car.transform(data)"
   ]
  },
  {
   "cell_type": "code",
   "execution_count": null,
   "metadata": {},
   "outputs": [],
   "source": [
    "from sklearn.pipeline import make_pipeline\n",
    "\n",
    "data = read_data('Alex Ovechkin', con)\n",
    "pipe = make_pipeline(\n",
    "    car,\n",
    "    mapper,\n",
    "    model\n",
    ")\n",
    "pipe.fit()"
   ]
  }
 ],
 "metadata": {
  "kernelspec": {
   "display_name": "Python 3",
   "language": "python",
   "name": "python3"
  },
  "language_info": {
   "codemirror_mode": {
    "name": "ipython",
    "version": 3
   },
   "file_extension": ".py",
   "mimetype": "text/x-python",
   "name": "python",
   "nbconvert_exporter": "python",
   "pygments_lexer": "ipython3",
   "version": "3.7.3"
  }
 },
 "nbformat": 4,
 "nbformat_minor": 2
}
