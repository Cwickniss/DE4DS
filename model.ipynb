{
 "cells": [
  {
   "cell_type": "code",
   "execution_count": 1,
   "metadata": {},
   "outputs": [],
   "source": [
    "import sqlite3\n",
    "import pandas as pd\n",
    "\n",
    "con = sqlite3.connect('data/hockey.db')"
   ]
  },
  {
   "cell_type": "code",
   "execution_count": 2,
   "metadata": {},
   "outputs": [],
   "source": [
    "df = pd.read_sql('select * from players', con)\n",
    "df['date'] = df['date'].apply(pd.to_datetime)\n",
    "df = df.sort_values('date', ascending=True)"
   ]
  },
  {
   "cell_type": "code",
   "execution_count": 3,
   "metadata": {},
   "outputs": [
    {
     "data": {
      "text/plain": [
       "Timestamp('2019-02-14 00:00:00')"
      ]
     },
     "execution_count": 3,
     "metadata": {},
     "output_type": "execute_result"
    }
   ],
   "source": [
    "df.date.max()"
   ]
  },
  {
   "cell_type": "code",
   "execution_count": 4,
   "metadata": {},
   "outputs": [],
   "source": [
    "df = df[df.date <= '2018-12-31']"
   ]
  },
  {
   "cell_type": "code",
   "execution_count": 7,
   "metadata": {},
   "outputs": [
    {
     "data": {
      "text/plain": [
       "(318, 12)"
      ]
     },
     "execution_count": 7,
     "metadata": {},
     "output_type": "execute_result"
    }
   ],
   "source": [
    "df.shape"
   ]
  },
  {
   "cell_type": "code",
   "execution_count": 5,
   "metadata": {},
   "outputs": [
    {
     "data": {
      "text/html": [
       "<div>\n",
       "<style scoped>\n",
       "    .dataframe tbody tr th:only-of-type {\n",
       "        vertical-align: middle;\n",
       "    }\n",
       "\n",
       "    .dataframe tbody tr th {\n",
       "        vertical-align: top;\n",
       "    }\n",
       "\n",
       "    .dataframe thead th {\n",
       "        text-align: right;\n",
       "    }\n",
       "</style>\n",
       "<table border=\"1\" class=\"dataframe\">\n",
       "  <thead>\n",
       "    <tr style=\"text-align: right;\">\n",
       "      <th></th>\n",
       "      <th>id</th>\n",
       "      <th>name</th>\n",
       "      <th>position</th>\n",
       "      <th>date</th>\n",
       "      <th>team</th>\n",
       "      <th>venue</th>\n",
       "      <th>opponent</th>\n",
       "      <th>outcome</th>\n",
       "      <th>goals</th>\n",
       "      <th>assists</th>\n",
       "      <th>shots</th>\n",
       "      <th>ice_time</th>\n",
       "    </tr>\n",
       "  </thead>\n",
       "  <tbody>\n",
       "    <tr>\n",
       "      <th>67</th>\n",
       "      <td>68</td>\n",
       "      <td>John Tavares</td>\n",
       "      <td>C</td>\n",
       "      <td>2018-10-20</td>\n",
       "      <td>TOR</td>\n",
       "      <td>Home</td>\n",
       "      <td>STL</td>\n",
       "      <td>L</td>\n",
       "      <td>0</td>\n",
       "      <td>0</td>\n",
       "      <td>1</td>\n",
       "      <td>16.0</td>\n",
       "    </tr>\n",
       "    <tr>\n",
       "      <th>50</th>\n",
       "      <td>51</td>\n",
       "      <td>Connor McDavid</td>\n",
       "      <td>C</td>\n",
       "      <td>2018-10-16</td>\n",
       "      <td>EDM</td>\n",
       "      <td>Away</td>\n",
       "      <td>WPG</td>\n",
       "      <td>W</td>\n",
       "      <td>2</td>\n",
       "      <td>2</td>\n",
       "      <td>3</td>\n",
       "      <td>22.0</td>\n",
       "    </tr>\n",
       "    <tr>\n",
       "      <th>165</th>\n",
       "      <td>166</td>\n",
       "      <td>Erik Karlsson</td>\n",
       "      <td>D</td>\n",
       "      <td>2018-11-17</td>\n",
       "      <td>SJS</td>\n",
       "      <td>Home</td>\n",
       "      <td>STL</td>\n",
       "      <td>W</td>\n",
       "      <td>1</td>\n",
       "      <td>1</td>\n",
       "      <td>4</td>\n",
       "      <td>20.0</td>\n",
       "    </tr>\n",
       "    <tr>\n",
       "      <th>154</th>\n",
       "      <td>155</td>\n",
       "      <td>Patrice Bergeron</td>\n",
       "      <td>C</td>\n",
       "      <td>2018-11-14</td>\n",
       "      <td>BOS</td>\n",
       "      <td>Away</td>\n",
       "      <td>COL</td>\n",
       "      <td>L</td>\n",
       "      <td>0</td>\n",
       "      <td>1</td>\n",
       "      <td>3</td>\n",
       "      <td>17.0</td>\n",
       "    </tr>\n",
       "    <tr>\n",
       "      <th>34</th>\n",
       "      <td>35</td>\n",
       "      <td>John Tavares</td>\n",
       "      <td>C</td>\n",
       "      <td>2018-10-11</td>\n",
       "      <td>TOR</td>\n",
       "      <td>Away</td>\n",
       "      <td>DET</td>\n",
       "      <td>W</td>\n",
       "      <td>0</td>\n",
       "      <td>4</td>\n",
       "      <td>3</td>\n",
       "      <td>18.0</td>\n",
       "    </tr>\n",
       "  </tbody>\n",
       "</table>\n",
       "</div>"
      ],
      "text/plain": [
       "      id              name position       date team venue opponent outcome  \\\n",
       "67    68      John Tavares        C 2018-10-20  TOR  Home      STL       L   \n",
       "50    51    Connor McDavid        C 2018-10-16  EDM  Away      WPG       W   \n",
       "165  166     Erik Karlsson        D 2018-11-17  SJS  Home      STL       W   \n",
       "154  155  Patrice Bergeron        C 2018-11-14  BOS  Away      COL       L   \n",
       "34    35      John Tavares        C 2018-10-11  TOR  Away      DET       W   \n",
       "\n",
       "     goals  assists  shots  ice_time  \n",
       "67       0        0      1      16.0  \n",
       "50       2        2      3      22.0  \n",
       "165      1        1      4      20.0  \n",
       "154      0        1      3      17.0  \n",
       "34       0        4      3      18.0  "
      ]
     },
     "execution_count": 5,
     "metadata": {},
     "output_type": "execute_result"
    }
   ],
   "source": [
    "df.sample(5)"
   ]
  },
  {
   "cell_type": "code",
   "execution_count": 8,
   "metadata": {},
   "outputs": [
    {
     "data": {
      "text/html": [
       "<div>\n",
       "<style scoped>\n",
       "    .dataframe tbody tr th:only-of-type {\n",
       "        vertical-align: middle;\n",
       "    }\n",
       "\n",
       "    .dataframe tbody tr th {\n",
       "        vertical-align: top;\n",
       "    }\n",
       "\n",
       "    .dataframe thead th {\n",
       "        text-align: right;\n",
       "    }\n",
       "</style>\n",
       "<table border=\"1\" class=\"dataframe\">\n",
       "  <thead>\n",
       "    <tr style=\"text-align: right;\">\n",
       "      <th></th>\n",
       "      <th>id</th>\n",
       "      <th>name</th>\n",
       "      <th>position</th>\n",
       "      <th>date</th>\n",
       "      <th>team</th>\n",
       "      <th>venue</th>\n",
       "      <th>opponent</th>\n",
       "      <th>outcome</th>\n",
       "      <th>goals</th>\n",
       "      <th>assists</th>\n",
       "      <th>shots</th>\n",
       "      <th>ice_time</th>\n",
       "    </tr>\n",
       "  </thead>\n",
       "  <tbody>\n",
       "    <tr>\n",
       "      <th>0</th>\n",
       "      <td>1</td>\n",
       "      <td>Alex Ovechkin</td>\n",
       "      <td>LW</td>\n",
       "      <td>2018-10-03</td>\n",
       "      <td>WSH</td>\n",
       "      <td>Home</td>\n",
       "      <td>BOS</td>\n",
       "      <td>W</td>\n",
       "      <td>1</td>\n",
       "      <td>1</td>\n",
       "      <td>5</td>\n",
       "      <td>16.0</td>\n",
       "    </tr>\n",
       "    <tr>\n",
       "      <th>1</th>\n",
       "      <td>2</td>\n",
       "      <td>Auston Matthews</td>\n",
       "      <td>C</td>\n",
       "      <td>2018-10-03</td>\n",
       "      <td>TOR</td>\n",
       "      <td>Home</td>\n",
       "      <td>MTL</td>\n",
       "      <td>W</td>\n",
       "      <td>2</td>\n",
       "      <td>0</td>\n",
       "      <td>3</td>\n",
       "      <td>17.0</td>\n",
       "    </tr>\n",
       "    <tr>\n",
       "      <th>2</th>\n",
       "      <td>3</td>\n",
       "      <td>Brent Burns</td>\n",
       "      <td>D/RW</td>\n",
       "      <td>2018-10-03</td>\n",
       "      <td>SJS</td>\n",
       "      <td>Home</td>\n",
       "      <td>ANA</td>\n",
       "      <td>L</td>\n",
       "      <td>0</td>\n",
       "      <td>0</td>\n",
       "      <td>2</td>\n",
       "      <td>25.0</td>\n",
       "    </tr>\n",
       "    <tr>\n",
       "      <th>3</th>\n",
       "      <td>4</td>\n",
       "      <td>Erik Karlsson</td>\n",
       "      <td>D</td>\n",
       "      <td>2018-10-03</td>\n",
       "      <td>SJS</td>\n",
       "      <td>Home</td>\n",
       "      <td>ANA</td>\n",
       "      <td>L</td>\n",
       "      <td>0</td>\n",
       "      <td>0</td>\n",
       "      <td>1</td>\n",
       "      <td>26.0</td>\n",
       "    </tr>\n",
       "    <tr>\n",
       "      <th>4</th>\n",
       "      <td>5</td>\n",
       "      <td>John Tavares</td>\n",
       "      <td>C</td>\n",
       "      <td>2018-10-03</td>\n",
       "      <td>TOR</td>\n",
       "      <td>Home</td>\n",
       "      <td>MTL</td>\n",
       "      <td>W</td>\n",
       "      <td>1</td>\n",
       "      <td>0</td>\n",
       "      <td>5</td>\n",
       "      <td>18.0</td>\n",
       "    </tr>\n",
       "  </tbody>\n",
       "</table>\n",
       "</div>"
      ],
      "text/plain": [
       "   id             name position       date team venue opponent outcome  goals  \\\n",
       "0   1    Alex Ovechkin       LW 2018-10-03  WSH  Home      BOS       W      1   \n",
       "1   2  Auston Matthews        C 2018-10-03  TOR  Home      MTL       W      2   \n",
       "2   3      Brent Burns     D/RW 2018-10-03  SJS  Home      ANA       L      0   \n",
       "3   4    Erik Karlsson        D 2018-10-03  SJS  Home      ANA       L      0   \n",
       "4   5     John Tavares        C 2018-10-03  TOR  Home      MTL       W      1   \n",
       "\n",
       "   assists  shots  ice_time  \n",
       "0        1      5      16.0  \n",
       "1        0      3      17.0  \n",
       "2        0      2      25.0  \n",
       "3        0      1      26.0  \n",
       "4        0      5      18.0  "
      ]
     },
     "execution_count": 8,
     "metadata": {},
     "output_type": "execute_result"
    }
   ],
   "source": [
    "# df = df[df['name'] == 'Sidney Crosby']\n",
    "df.head(5)"
   ]
  },
  {
   "cell_type": "code",
   "execution_count": 9,
   "metadata": {},
   "outputs": [],
   "source": [
    "rolling = (\n",
    "    df\n",
    "    .groupby(['name', 'position'])\n",
    "    [['goals', 'assists', 'shots', 'ice_time']]\n",
    "    .rolling(5)\n",
    "    .mean()\n",
    "    .groupby(['name', 'position'])\n",
    "    .shift(1)\n",
    "    .reset_index()\n",
    "    .rename(columns={'level_2': 'index'})\n",
    "    .set_index('index')\n",
    ")"
   ]
  },
  {
   "cell_type": "code",
   "execution_count": 10,
   "metadata": {},
   "outputs": [],
   "source": [
    "train = pd.merge(df, rolling, left_index=True, right_index=True, suffixes=('', '_rolling'))"
   ]
  },
  {
   "cell_type": "code",
   "execution_count": 11,
   "metadata": {},
   "outputs": [
    {
     "data": {
      "text/html": [
       "<div>\n",
       "<style scoped>\n",
       "    .dataframe tbody tr th:only-of-type {\n",
       "        vertical-align: middle;\n",
       "    }\n",
       "\n",
       "    .dataframe tbody tr th {\n",
       "        vertical-align: top;\n",
       "    }\n",
       "\n",
       "    .dataframe thead th {\n",
       "        text-align: right;\n",
       "    }\n",
       "</style>\n",
       "<table border=\"1\" class=\"dataframe\">\n",
       "  <thead>\n",
       "    <tr style=\"text-align: right;\">\n",
       "      <th></th>\n",
       "      <th>id</th>\n",
       "      <th>name</th>\n",
       "      <th>position</th>\n",
       "      <th>date</th>\n",
       "      <th>team</th>\n",
       "      <th>venue</th>\n",
       "      <th>opponent</th>\n",
       "      <th>outcome</th>\n",
       "      <th>goals</th>\n",
       "      <th>assists</th>\n",
       "      <th>shots</th>\n",
       "      <th>ice_time</th>\n",
       "      <th>name_rolling</th>\n",
       "      <th>position_rolling</th>\n",
       "      <th>goals_rolling</th>\n",
       "      <th>assists_rolling</th>\n",
       "      <th>shots_rolling</th>\n",
       "      <th>ice_time_rolling</th>\n",
       "    </tr>\n",
       "  </thead>\n",
       "  <tbody>\n",
       "    <tr>\n",
       "      <th>0</th>\n",
       "      <td>1</td>\n",
       "      <td>Alex Ovechkin</td>\n",
       "      <td>LW</td>\n",
       "      <td>2018-10-03</td>\n",
       "      <td>WSH</td>\n",
       "      <td>Home</td>\n",
       "      <td>BOS</td>\n",
       "      <td>W</td>\n",
       "      <td>1</td>\n",
       "      <td>1</td>\n",
       "      <td>5</td>\n",
       "      <td>16.0</td>\n",
       "      <td>Alex Ovechkin</td>\n",
       "      <td>LW</td>\n",
       "      <td>NaN</td>\n",
       "      <td>NaN</td>\n",
       "      <td>NaN</td>\n",
       "      <td>NaN</td>\n",
       "    </tr>\n",
       "    <tr>\n",
       "      <th>1</th>\n",
       "      <td>2</td>\n",
       "      <td>Auston Matthews</td>\n",
       "      <td>C</td>\n",
       "      <td>2018-10-03</td>\n",
       "      <td>TOR</td>\n",
       "      <td>Home</td>\n",
       "      <td>MTL</td>\n",
       "      <td>W</td>\n",
       "      <td>2</td>\n",
       "      <td>0</td>\n",
       "      <td>3</td>\n",
       "      <td>17.0</td>\n",
       "      <td>Auston Matthews</td>\n",
       "      <td>C</td>\n",
       "      <td>NaN</td>\n",
       "      <td>NaN</td>\n",
       "      <td>NaN</td>\n",
       "      <td>NaN</td>\n",
       "    </tr>\n",
       "    <tr>\n",
       "      <th>2</th>\n",
       "      <td>3</td>\n",
       "      <td>Brent Burns</td>\n",
       "      <td>D/RW</td>\n",
       "      <td>2018-10-03</td>\n",
       "      <td>SJS</td>\n",
       "      <td>Home</td>\n",
       "      <td>ANA</td>\n",
       "      <td>L</td>\n",
       "      <td>0</td>\n",
       "      <td>0</td>\n",
       "      <td>2</td>\n",
       "      <td>25.0</td>\n",
       "      <td>Brent Burns</td>\n",
       "      <td>D/RW</td>\n",
       "      <td>NaN</td>\n",
       "      <td>NaN</td>\n",
       "      <td>NaN</td>\n",
       "      <td>NaN</td>\n",
       "    </tr>\n",
       "    <tr>\n",
       "      <th>3</th>\n",
       "      <td>4</td>\n",
       "      <td>Erik Karlsson</td>\n",
       "      <td>D</td>\n",
       "      <td>2018-10-03</td>\n",
       "      <td>SJS</td>\n",
       "      <td>Home</td>\n",
       "      <td>ANA</td>\n",
       "      <td>L</td>\n",
       "      <td>0</td>\n",
       "      <td>0</td>\n",
       "      <td>1</td>\n",
       "      <td>26.0</td>\n",
       "      <td>Erik Karlsson</td>\n",
       "      <td>D</td>\n",
       "      <td>NaN</td>\n",
       "      <td>NaN</td>\n",
       "      <td>NaN</td>\n",
       "      <td>NaN</td>\n",
       "    </tr>\n",
       "    <tr>\n",
       "      <th>4</th>\n",
       "      <td>5</td>\n",
       "      <td>John Tavares</td>\n",
       "      <td>C</td>\n",
       "      <td>2018-10-03</td>\n",
       "      <td>TOR</td>\n",
       "      <td>Home</td>\n",
       "      <td>MTL</td>\n",
       "      <td>W</td>\n",
       "      <td>1</td>\n",
       "      <td>0</td>\n",
       "      <td>5</td>\n",
       "      <td>18.0</td>\n",
       "      <td>John Tavares</td>\n",
       "      <td>C</td>\n",
       "      <td>NaN</td>\n",
       "      <td>NaN</td>\n",
       "      <td>NaN</td>\n",
       "      <td>NaN</td>\n",
       "    </tr>\n",
       "  </tbody>\n",
       "</table>\n",
       "</div>"
      ],
      "text/plain": [
       "   id             name position       date team venue opponent outcome  goals  \\\n",
       "0   1    Alex Ovechkin       LW 2018-10-03  WSH  Home      BOS       W      1   \n",
       "1   2  Auston Matthews        C 2018-10-03  TOR  Home      MTL       W      2   \n",
       "2   3      Brent Burns     D/RW 2018-10-03  SJS  Home      ANA       L      0   \n",
       "3   4    Erik Karlsson        D 2018-10-03  SJS  Home      ANA       L      0   \n",
       "4   5     John Tavares        C 2018-10-03  TOR  Home      MTL       W      1   \n",
       "\n",
       "   assists  shots  ice_time     name_rolling position_rolling  goals_rolling  \\\n",
       "0        1      5      16.0    Alex Ovechkin               LW            NaN   \n",
       "1        0      3      17.0  Auston Matthews                C            NaN   \n",
       "2        0      2      25.0      Brent Burns             D/RW            NaN   \n",
       "3        0      1      26.0    Erik Karlsson                D            NaN   \n",
       "4        0      5      18.0     John Tavares                C            NaN   \n",
       "\n",
       "   assists_rolling  shots_rolling  ice_time_rolling  \n",
       "0              NaN            NaN               NaN  \n",
       "1              NaN            NaN               NaN  \n",
       "2              NaN            NaN               NaN  \n",
       "3              NaN            NaN               NaN  \n",
       "4              NaN            NaN               NaN  "
      ]
     },
     "execution_count": 11,
     "metadata": {},
     "output_type": "execute_result"
    }
   ],
   "source": [
    "train.head()"
   ]
  },
  {
   "cell_type": "code",
   "execution_count": 12,
   "metadata": {},
   "outputs": [],
   "source": [
    "train = train.dropna(subset=['goals_rolling'])"
   ]
  },
  {
   "cell_type": "code",
   "execution_count": 13,
   "metadata": {},
   "outputs": [],
   "source": [
    "X = train[[\n",
    "    'position', \n",
    "    'goals_rolling', \n",
    "    'assists_rolling',\n",
    "    'shots_rolling',\n",
    "    'ice_time_rolling',\n",
    "]]\n",
    "\n",
    "y = train['goals']"
   ]
  },
  {
   "cell_type": "code",
   "execution_count": 14,
   "metadata": {},
   "outputs": [
    {
     "data": {
      "text/html": [
       "<div>\n",
       "<style scoped>\n",
       "    .dataframe tbody tr th:only-of-type {\n",
       "        vertical-align: middle;\n",
       "    }\n",
       "\n",
       "    .dataframe tbody tr th {\n",
       "        vertical-align: top;\n",
       "    }\n",
       "\n",
       "    .dataframe thead th {\n",
       "        text-align: right;\n",
       "    }\n",
       "</style>\n",
       "<table border=\"1\" class=\"dataframe\">\n",
       "  <thead>\n",
       "    <tr style=\"text-align: right;\">\n",
       "      <th></th>\n",
       "      <th>position</th>\n",
       "      <th>goals_rolling</th>\n",
       "      <th>assists_rolling</th>\n",
       "      <th>shots_rolling</th>\n",
       "      <th>ice_time_rolling</th>\n",
       "    </tr>\n",
       "  </thead>\n",
       "  <tbody>\n",
       "    <tr>\n",
       "      <th>41</th>\n",
       "      <td>C</td>\n",
       "      <td>1.2</td>\n",
       "      <td>0.8</td>\n",
       "      <td>4.2</td>\n",
       "      <td>18.8</td>\n",
       "    </tr>\n",
       "    <tr>\n",
       "      <th>42</th>\n",
       "      <td>RW</td>\n",
       "      <td>0.2</td>\n",
       "      <td>0.6</td>\n",
       "      <td>2.6</td>\n",
       "      <td>14.0</td>\n",
       "    </tr>\n",
       "    <tr>\n",
       "      <th>39</th>\n",
       "      <td>C</td>\n",
       "      <td>1.8</td>\n",
       "      <td>0.6</td>\n",
       "      <td>3.4</td>\n",
       "      <td>18.0</td>\n",
       "    </tr>\n",
       "    <tr>\n",
       "      <th>45</th>\n",
       "      <td>D/RW</td>\n",
       "      <td>0.0</td>\n",
       "      <td>0.6</td>\n",
       "      <td>2.6</td>\n",
       "      <td>24.4</td>\n",
       "    </tr>\n",
       "    <tr>\n",
       "      <th>46</th>\n",
       "      <td>D</td>\n",
       "      <td>0.0</td>\n",
       "      <td>0.6</td>\n",
       "      <td>2.4</td>\n",
       "      <td>26.4</td>\n",
       "    </tr>\n",
       "  </tbody>\n",
       "</table>\n",
       "</div>"
      ],
      "text/plain": [
       "   position  goals_rolling  assists_rolling  shots_rolling  ice_time_rolling\n",
       "41        C            1.2              0.8            4.2              18.8\n",
       "42       RW            0.2              0.6            2.6              14.0\n",
       "39        C            1.8              0.6            3.4              18.0\n",
       "45     D/RW            0.0              0.6            2.6              24.4\n",
       "46        D            0.0              0.6            2.4              26.4"
      ]
     },
     "execution_count": 14,
     "metadata": {},
     "output_type": "execute_result"
    }
   ],
   "source": [
    "X[:5]"
   ]
  },
  {
   "cell_type": "code",
   "execution_count": 15,
   "metadata": {},
   "outputs": [
    {
     "data": {
      "text/plain": [
       "41    0\n",
       "42    1\n",
       "39    1\n",
       "45    0\n",
       "46    0\n",
       "Name: goals, dtype: int64"
      ]
     },
     "execution_count": 15,
     "metadata": {},
     "output_type": "execute_result"
    }
   ],
   "source": [
    "y[:5]"
   ]
  },
  {
   "cell_type": "code",
   "execution_count": 16,
   "metadata": {},
   "outputs": [],
   "source": [
    "from sklearn.linear_model import LinearRegression\n",
    "from sklearn_pandas import DataFrameMapper, CategoricalImputer\n",
    "from sklearn.preprocessing import LabelBinarizer"
   ]
  },
  {
   "cell_type": "code",
   "execution_count": 17,
   "metadata": {},
   "outputs": [],
   "source": [
    "mapper = DataFrameMapper([\n",
    "    ('position', LabelBinarizer()),\n",
    "    ('goals_rolling', None), \n",
    "    ('assists_rolling', None),\n",
    "    ('shots_rolling', None), \n",
    "    ('ice_time_rolling', None),\n",
    "], df_out=True)"
   ]
  },
  {
   "cell_type": "code",
   "execution_count": 20,
   "metadata": {},
   "outputs": [],
   "source": [
    "Z = mapper.fit_transform(X)"
   ]
  },
  {
   "cell_type": "code",
   "execution_count": 21,
   "metadata": {},
   "outputs": [
    {
     "data": {
      "text/plain": [
       "LinearRegression(copy_X=True, fit_intercept=True, n_jobs=None,\n",
       "         normalize=False)"
      ]
     },
     "execution_count": 21,
     "metadata": {},
     "output_type": "execute_result"
    }
   ],
   "source": [
    "model = LinearRegression()\n",
    "model.fit(Z, y)"
   ]
  },
  {
   "cell_type": "code",
   "execution_count": 22,
   "metadata": {},
   "outputs": [
    {
     "data": {
      "text/plain": [
       "0.116700796366069"
      ]
     },
     "execution_count": 22,
     "metadata": {},
     "output_type": "execute_result"
    }
   ],
   "source": [
    "model.score(Z, y)"
   ]
  },
  {
   "cell_type": "code",
   "execution_count": 23,
   "metadata": {},
   "outputs": [],
   "source": [
    "test = pd.read_sql('select * from players', con)\n",
    "test = df[df.date > '2018-12-31']"
   ]
  },
  {
   "cell_type": "code",
   "execution_count": null,
   "metadata": {},
   "outputs": [],
   "source": [
    "df = pd.read_sql('select * from players', con)"
   ]
  }
 ],
 "metadata": {
  "kernelspec": {
   "display_name": "Python 3",
   "language": "python",
   "name": "python3"
  },
  "language_info": {
   "codemirror_mode": {
    "name": "ipython",
    "version": 3
   },
   "file_extension": ".py",
   "mimetype": "text/x-python",
   "name": "python",
   "nbconvert_exporter": "python",
   "pygments_lexer": "ipython3",
   "version": "3.7.3"
  }
 },
 "nbformat": 4,
 "nbformat_minor": 2
}
